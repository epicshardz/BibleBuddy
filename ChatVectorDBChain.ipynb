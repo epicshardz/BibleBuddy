{
 "cells": [
  {
   "attachments": {},
   "cell_type": "markdown",
   "metadata": {},
   "source": [
    "I use this file to create the databases. Simply put your files in a directory, update the variables below and click up to the persist. Test it out after that."
   ]
  },
  {
   "cell_type": "code",
   "execution_count": null,
   "metadata": {},
   "outputs": [],
   "source": [
    "where_the_dir_is = r'D:\\Downloaded\\BibleBuddy\\server\\db\\Bibles\\ASV'\n",
    "where_the_dbs_will_be_saved = r'D:\\Downloaded\\BibleBuddy\\server\\db\\Bibles\\Collections\\ASV'"
   ]
  },
  {
   "attachments": {},
   "cell_type": "markdown",
   "metadata": {},
   "source": [
    "Create DB"
   ]
  },
  {
   "cell_type": "code",
   "execution_count": 9,
   "metadata": {},
   "outputs": [],
   "source": [
    "from langchain.embeddings.openai import OpenAIEmbeddings\n",
    "from langchain.vectorstores import Chroma\n",
    "from langchain.text_splitter import CharacterTextSplitter\n",
    "from langchain.chains import ChatVectorDBChain\n",
    "from langchain.document_loaders import DirectoryLoader\n",
    "from langchain.document_loaders import UnstructuredFileLoader\n",
    "import os\n",
    "from dotenv import load_dotenv\n",
    "\n",
    "# Load environment variables from .env file\n",
    "load_dotenv()\n",
    "os.environ[\"OPENAI_API_KEY\"] = os.getenv(\"OPENAI_API_KEY\")"
   ]
  },
  {
   "cell_type": "code",
   "execution_count": 2,
   "metadata": {},
   "outputs": [
    {
     "data": {
      "text/plain": [
       "1"
      ]
     },
     "execution_count": 2,
     "metadata": {},
     "output_type": "execute_result"
    }
   ],
   "source": [
    "# loader_cls = lambda path: UnstructuredFileLoader(path)\n",
    "# This will allow whole directorys to be embedded. \n",
    "loader = DirectoryLoader(where_the_dir_is)\n",
    "# loader_cls = lambda path: UnstructuredFileLoader(path, mode=\"elements\", max_tokens=2000)\n",
    "\n",
    "# loader.loader_cls = lambda path: UnstructuredFileLoader(path, mode=\"elements\")\n",
    "docs = loader.load()\n",
    "len(docs)"
   ]
  },
  {
   "cell_type": "code",
   "execution_count": 3,
   "metadata": {},
   "outputs": [],
   "source": [
    "documents = loader.load()"
   ]
  },
  {
   "cell_type": "code",
   "execution_count": 4,
   "metadata": {},
   "outputs": [
    {
     "name": "stdout",
     "output_type": "stream",
     "text": [
      "Running Chroma using direct local API.\n",
      "No existing DB found in D:\\Downloaded\\BibleBuddy\\server\\db\\Bibles\\Collections\\ASV, skipping load\n",
      "No existing DB found in D:\\Downloaded\\BibleBuddy\\server\\db\\Bibles\\Collections\\ASV, skipping load\n"
     ]
    }
   ],
   "source": [
    "text_splitter = CharacterTextSplitter(chunk_size=1000, chunk_overlap=0)\n",
    "documents = text_splitter.split_documents(documents)\n",
    "\n",
    "embeddings = OpenAIEmbeddings()\n",
    "persist_directory = where_the_dbs_will_be_saved\n",
    "vectorstore = Chroma.from_documents(documents, embeddings,persist_directory=persist_directory)"
   ]
  },
  {
   "cell_type": "code",
   "execution_count": 5,
   "metadata": {},
   "outputs": [
    {
     "name": "stdout",
     "output_type": "stream",
     "text": [
      "Persisting DB to disk, putting it in the save folder D:\\Downloaded\\BibleBuddy\\server\\db\\Bibles\\Collections\\ASV\n",
      "PersistentDuckDB del, about to run persist\n",
      "Persisting DB to disk, putting it in the save folder D:\\Downloaded\\BibleBuddy\\server\\db\\Bibles\\Collections\\ASV\n"
     ]
    }
   ],
   "source": [
    "vectorstore.persist()\n",
    "vectorstore = None"
   ]
  },
  {
   "attachments": {},
   "cell_type": "markdown",
   "metadata": {},
   "source": [
    "If that ^ fails, try closing some applications and try again. It took 3 tries to embed ASV Bible"
   ]
  },
  {
   "attachments": {},
   "cell_type": "markdown",
   "metadata": {},
   "source": [
    "Test DB"
   ]
  },
  {
   "cell_type": "code",
   "execution_count": 10,
   "metadata": {},
   "outputs": [
    {
     "name": "stdout",
     "output_type": "stream",
     "text": [
      "Running Chroma using direct local API.\n",
      "loaded in 5756 embeddings\n",
      "loaded in 1 collections\n",
      "No embedding_function provided, using default embedding function: SentenceTransformerEmbeddingFunction\n"
     ]
    },
    {
     "name": "stderr",
     "output_type": "stream",
     "text": [
      "c:\\Python310\\lib\\site-packages\\tqdm\\auto.py:22: TqdmWarning: IProgress not found. Please update jupyter and ipywidgets. See https://ipywidgets.readthedocs.io/en/stable/user_install.html\n",
      "  from .autonotebook import tqdm as notebook_tqdm\n"
     ]
    },
    {
     "name": "stdout",
     "output_type": "stream",
     "text": [
      "No embedding_function provided, using default embedding function: SentenceTransformerEmbeddingFunction\n"
     ]
    }
   ],
   "source": [
    "# Now we can load the persisted database from disk, and use it as normal. \n",
    "persist_directory = r'D:\\Downloaded\\BibleBuddy\\server\\db\\Bibles\\Collections\\ASV'\n",
    "embedding = OpenAIEmbeddings()\n",
    "vectordb = Chroma(persist_directory=persist_directory, embedding_function=embedding)"
   ]
  },
  {
   "cell_type": "code",
   "execution_count": 11,
   "metadata": {},
   "outputs": [],
   "source": [
    "from langchain.chat_models import ChatOpenAI\n",
    "from langchain.prompts.chat import (\n",
    "    ChatPromptTemplate,\n",
    "    SystemMessagePromptTemplate,\n",
    "    AIMessagePromptTemplate,\n",
    "    HumanMessagePromptTemplate,\n",
    ")\n",
    "from langchain.schema import (\n",
    "    AIMessage,\n",
    "    HumanMessage,\n",
    "    SystemMessage\n",
    ")"
   ]
  },
  {
   "cell_type": "code",
   "execution_count": 12,
   "metadata": {},
   "outputs": [],
   "source": [
    "system_template=\"\"\"Use the following pieces of context to answer the users question. \n",
    "If you don't know the answer, just say that you don't know, don't try to make up an answer. Provide a scripture reference.\n",
    "ALWAYS return a \"sources\" part in your answer.\n",
    "The \"sources\" part should be a reference to the source of the document from which you got your answer.\n",
    "\n",
    "The output should be a markdown code snippet formatted in the following schema:\n",
    "```json\n",
    "{{\n",
    "answer: is foo\n",
    "sources: xyz\n",
    "}}\n",
    "```\n",
    "Begin!\n",
    "----------------\n",
    "{context}\"\"\"\n",
    "messages = [\n",
    "    SystemMessagePromptTemplate.from_template(system_template),\n",
    "    HumanMessagePromptTemplate.from_template(\"{question}\")\n",
    "]\n",
    "prompt = ChatPromptTemplate.from_messages(messages)"
   ]
  },
  {
   "cell_type": "code",
   "execution_count": 14,
   "metadata": {},
   "outputs": [],
   "source": [
    "qa = ChatVectorDBChain.from_llm(ChatOpenAI(temperature=0), vectordb,qa_prompt=prompt, return_source_documents=True)\n"
   ]
  },
  {
   "cell_type": "code",
   "execution_count": 15,
   "metadata": {},
   "outputs": [
    {
     "data": {
      "text/plain": [
       "'Exodus is a book in the Bible that tells the story of how God delivered the Israelites from slavery in Egypt and made a covenant with them at Mount Sinai. It includes the ten plagues, the parting of the Red Sea, the giving of the Ten Commandments, and the construction of the tabernacle. \\n\\nSources: Exodus 1-40'"
      ]
     },
     "execution_count": 15,
     "metadata": {},
     "output_type": "execute_result"
    }
   ],
   "source": [
    "chat_history = []\n",
    "query = \"What is Exodus about?\"\n",
    "result = qa({\"question\": query, \"chat_history\": chat_history})\n",
    "result[\"answer\"]"
   ]
  },
  {
   "cell_type": "code",
   "execution_count": 16,
   "metadata": {},
   "outputs": [
    {
     "data": {
      "text/plain": [
       "[Document(page_content='Exod.32:11 And Moses besought Jehovah his God, and said, Jehovah, why doth thy wrath wax hot against thy people, that thou hast brought forth out of the land of Egypt with great power and with a mighty hand?\\n\\nExod.32:12 Wherefore should the Egyptians speak, saying, For evil did he bring them forth, to slay them in the mountains, and to consume them from the face of the earth? Turn from thy fierce wrath, and repent of this evil against thy people.\\n\\nExod.32:13 Remember Abraham, Isaac, and Israel, thy servants, to whom thou swarest by thine own self, and saidst unto them, I will multiply your seed as the stars of heaven, and all this land that I have spoken of will I give unto your seed, and they shall inherit it for ever.\\n\\nExod.32:14 And Jehovah repented of the evil which he said he would do unto his people.', lookup_str='', metadata={'source': 'D:\\\\Downloaded\\\\BibleBuddy\\\\server\\\\db\\\\Bibles\\\\ASV\\\\ASV.txt'}, lookup_index=0),\n",
       " Document(page_content='Exod.12:40 Now the time that the children of Israel dwelt in Egypt was four hundred and thirty years.\\n\\nExod.12:41 And it came to pass at the end of four hundred and thirty years, even the selfsame day it came to pass, that all the hosts of Jehovah went out from the land of Egypt.\\n\\nExod.12:42 It is __a__FOOTNOTE__a__ Exodus 12:42 Or, a night of watching unto Jehovah __b__FOOTNOTE__b__ a night to be much observed unto Jehovah for bringing them out from the land of Egypt: __a__FOOTNOTE__a__ Exodus 12:42 Or, this same night is a night of watching unto Jehovah for all etc. __b__FOOTNOTE__b__ this is that night of Jehovah, to be much observed of all the children of Israel throughout their generations.\\n\\nExod.12:43 And Jehovah said unto Moses and Aaron, This is the ordinance of the passover: there shall no foreigner eat thereof;\\n\\nExod.12:44 but every man’s servant that is bought for money, when thou hast circumcised him, then shall he eat thereof.', lookup_str='', metadata={'source': 'D:\\\\Downloaded\\\\BibleBuddy\\\\server\\\\db\\\\Bibles\\\\ASV\\\\ASV.txt'}, lookup_index=0),\n",
       " Document(page_content='Exod.4:19 And Jehovah said unto Moses in Midian, Go, return into Egypt; for all the men are dead that sought thy life.\\n\\nExod.4:20 And Moses took his wife and his sons, and set them upon an ass, and he returned to the land of Egypt: and Moses took the rod of God in his hand.\\n\\nExod.4:21 And Jehovah said unto Moses, When thou goest back into Egypt, see that thou do before Pharaoh all the wonders which I have put in thy hand: but I will __a__FOOTNOTE__a__ Exodus 4:21 Hebrew make strong. __b__FOOTNOTE__b__ harden his heart, and he will not let the people go.\\n\\nExod.4:22 And thou shalt say unto Pharaoh, Thus saith Jehovah, Israel is my son, my first-born:\\n\\nExod.4:23 and I have said unto thee, Let my son go, that he may serve me; and thou hast refused to let him go: behold, I will slay thy son, thy first-born.\\n\\nExod.4:24 And it came to pass on the way at the lodging-place, that Jehovah met him, and sought to kill him.', lookup_str='', metadata={'source': 'D:\\\\Downloaded\\\\BibleBuddy\\\\server\\\\db\\\\Bibles\\\\ASV\\\\ASV.txt'}, lookup_index=0),\n",
       " Document(page_content='Exod.6:1 And Jehovah said unto Moses, Now shalt thou see what I will do to Pharaoh: for by a strong hand shall he let them go, and by a strong hand shall he drive them out of his land.\\n\\nExod.6:2 And God spake unto Moses, and said unto him, I am Jehovah:\\n\\nExod.6:3 and I appeared unto Abraham, unto Isaac, and unto Jacob, as __a__FOOTNOTE__a__ Exodus 6:3 Hebrew El Shaddai. __b__FOOTNOTE__b__ God Almighty; but __a__FOOTNOTE__a__ Exodus 6:3 Or, as to __b__FOOTNOTE__b__ by my name Jehovah I was not __a__FOOTNOTE__a__ Exodus 6:3 Or, made known __b__FOOTNOTE__b__ known to them.\\n\\nExod.6:4 And I have also established my covenant with them, to give them the land of Canaan, the land of their sojournings, wherein they sojourned.\\n\\nExod.6:5 And moreover I have heard the groaning of the children of Israel, whom the Egyptians keep in bondage; and I have remembered my covenant.', lookup_str='', metadata={'source': 'D:\\\\Downloaded\\\\BibleBuddy\\\\server\\\\db\\\\Bibles\\\\ASV\\\\ASV.txt'}, lookup_index=0)]"
      ]
     },
     "execution_count": 16,
     "metadata": {},
     "output_type": "execute_result"
    }
   ],
   "source": [
    "result['source_documents']"
   ]
  }
 ],
 "metadata": {
  "kernelspec": {
   "display_name": "Python 3",
   "language": "python",
   "name": "python3"
  },
  "language_info": {
   "codemirror_mode": {
    "name": "ipython",
    "version": 3
   },
   "file_extension": ".py",
   "mimetype": "text/x-python",
   "name": "python",
   "nbconvert_exporter": "python",
   "pygments_lexer": "ipython3",
   "version": "3.10.1"
  },
  "orig_nbformat": 4
 },
 "nbformat": 4,
 "nbformat_minor": 2
}
