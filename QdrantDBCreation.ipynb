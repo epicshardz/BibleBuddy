{
 "cells": [
  {
   "cell_type": "code",
   "execution_count": 1,
   "metadata": {},
   "outputs": [],
   "source": [
    "from langchain.embeddings.openai import OpenAIEmbeddings\n",
    "from langchain.text_splitter import CharacterTextSplitter\n",
    "from langchain.vectorstores import Qdrant\n",
    "from langchain.document_loaders import TextLoader\n",
    "from langchain.embeddings.openai import OpenAIEmbeddings\n",
    "# from langchain.vectorstores import Chroma\n",
    "from langchain.text_splitter import CharacterTextSplitter\n",
    "from langchain.chains import ChatVectorDBChain\n",
    "from langchain.document_loaders import DirectoryLoader\n",
    "from langchain.document_loaders import UnstructuredFileLoader\n",
    "import os\n",
    "from dotenv import load_dotenv\n",
    "\n",
    "# Load environment variables from .env file\n",
    "load_dotenv()\n",
    "os.environ[\"OPENAI_API_KEY\"] = os.getenv(\"OPENAI_API_KEY\")\n",
    "os.environ[\"QDRANT_API_KEY\"] = os.getenv(\"QDRANT_API_KEY\")\n",
    "os.environ[\"QDRANT_HOST\"] = os.getenv(\"QDRANT_HOST\")"
   ]
  },
  {
   "cell_type": "code",
   "execution_count": 8,
   "metadata": {},
   "outputs": [],
   "source": [
    "where_the_dir_is = r'D:\\Downloaded\\BibleBuddy Docs\\ASV'\n",
    "# where_the_dbs_will_be_saved = r'D:\\Downloaded\\BibleBuddy\\db\\Bibles\\Collections\\KJV'"
   ]
  },
  {
   "cell_type": "code",
   "execution_count": 9,
   "metadata": {},
   "outputs": [
    {
     "data": {
      "text/plain": [
       "1"
      ]
     },
     "execution_count": 9,
     "metadata": {},
     "output_type": "execute_result"
    }
   ],
   "source": [
    "# loader_cls = lambda path: UnstructuredFileLoader(path)\n",
    "# This will allow whole directorys to be embedded. \n",
    "loader = DirectoryLoader(where_the_dir_is)\n",
    "# loader_cls = lambda path: UnstructuredFileLoader(path, mode=\"elements\", max_tokens=2000)\n",
    "\n",
    "# loader.loader_cls = lambda path: UnstructuredFileLoader(path, mode=\"elements\")\n",
    "docs = loader.load()\n",
    "len(docs)"
   ]
  },
  {
   "cell_type": "code",
   "execution_count": 10,
   "metadata": {},
   "outputs": [],
   "source": [
    "documents = loader.load()"
   ]
  },
  {
   "cell_type": "code",
   "execution_count": null,
   "metadata": {},
   "outputs": [],
   "source": [
    "# from langchain.document_loaders import TextLoader\n",
    "# loader = TextLoader('db/paul_graham_essay.txt')\n",
    "# documents = loader.load()\n",
    "text_splitter = CharacterTextSplitter(chunk_size=1000, chunk_overlap=0)\n",
    "docs = text_splitter.split_documents(documents)\n",
    "\n",
    "embeddings = OpenAIEmbeddings()"
   ]
  },
  {
   "cell_type": "code",
   "execution_count": null,
   "metadata": {},
   "outputs": [],
   "source": [
    "# host = \"biblebuddycluster\"\n",
    "api_key = os.environ[\"QDRANT_API_KEY\"]\n",
    "hosturl = os.environ[\"QDRANT_HOST\"]\n",
    "collectionname = 'ASV'\n",
    "qdrant = Qdrant.from_documents(docs, embeddings, url=hosturl, prefer_grpc=True, api_key=api_key, collection_name=collectionname)\n"
   ]
  },
  {
   "cell_type": "code",
   "execution_count": 7,
   "metadata": {},
   "outputs": [
    {
     "data": {
      "text/plain": [
       "Document(page_content='24 And the Pharisees said to Him, \"Look, why do they do what is not lawful on the Sabbath?\"\\n\\n25 But He said to them, \"Have you never read what David did when he was in need and hungry, he and those with him:\\n\\n26 how he went into the house of God in the days of Abiathar the high priest, and ate the showbread, which is not lawful to eat except for the priests, and also gave some to those who were with him?\"\\n\\n27 And He said to them, \"The Sabbath was made for man, and not man for the Sabbath.\\n\\n28 Therefore the Son of Man is also Lord of the Sabbath.\"\\n\\n3 And He entered the synagogue again, and a man was there who had a withered hand.\\n\\n2 So they watched Him closely, whether He would heal him on the Sabbath, so that they might accuse Him.\\n\\n3 And He said to the man who had the withered hand, \"Step forward.\"\\n\\n4 Then He said to them, \"Is it lawful on the Sabbath to do good or to do evil, to save life or to kill?\" But they kept silent.', lookup_str='', metadata={'source': 'D:\\\\Downloaded\\\\BibleBuddy Docs\\\\NKJV\\\\NKJV.txt'}, lookup_index=0)"
      ]
     },
     "execution_count": 7,
     "metadata": {},
     "output_type": "execute_result"
    }
   ],
   "source": [
    "query = \"What did Jesus say about Sabbath?\"\n",
    "docs = qdrant.similarity_search(query)\n",
    "docs[0]"
   ]
  },
  {
   "cell_type": "code",
   "execution_count": 21,
   "metadata": {},
   "outputs": [],
   "source": [
    "from langchain.chat_models import ChatOpenAI\n",
    "from langchain.prompts.chat import (\n",
    "    ChatPromptTemplate,\n",
    "    SystemMessagePromptTemplate,\n",
    "    AIMessagePromptTemplate,\n",
    "    HumanMessagePromptTemplate,\n",
    ")\n",
    "from langchain.schema import (\n",
    "    AIMessage,\n",
    "    HumanMessage,\n",
    "    SystemMessage\n",
    ")"
   ]
  },
  {
   "cell_type": "code",
   "execution_count": 22,
   "metadata": {},
   "outputs": [],
   "source": [
    "system_template=\"\"\"Use the following pieces of context to answer the users question. \n",
    "If you don't know the answer, just say that you don't know, don't try to make up an answer. Provide a scripture reference.\n",
    "ALWAYS return a \"sources\" part in your answer.\n",
    "The \"sources\" part should be a reference to the source of the document from which you got your answer.\n",
    "\n",
    "The output should be a markdown code snippet formatted in the following schema:\n",
    "```json\n",
    "{{\n",
    "answer: is foo\n",
    "sources: xyz\n",
    "}}\n",
    "```\n",
    "Begin!\n",
    "----------------\n",
    "{context}\"\"\"\n",
    "messages = [\n",
    "    SystemMessagePromptTemplate.from_template(system_template),\n",
    "    HumanMessagePromptTemplate.from_template(\"{question}\")\n",
    "]\n",
    "prompt = ChatPromptTemplate.from_messages(messages)"
   ]
  },
  {
   "cell_type": "code",
   "execution_count": 23,
   "metadata": {},
   "outputs": [],
   "source": [
    "qa = ChatVectorDBChain.from_llm(ChatOpenAI(temperature=0), qdrant,qa_prompt=prompt, return_source_documents=True)"
   ]
  },
  {
   "cell_type": "code",
   "execution_count": 24,
   "metadata": {},
   "outputs": [
    {
     "data": {
      "text/plain": [
       "'Exodus is the second book of the Bible and it tells the story of how God delivered the Israelites from slavery in Egypt and made a covenant with them at Mount Sinai. It also includes the giving of the Ten Commandments and the construction of the Tabernacle. \\n\\nSources: Exodus 1-40'"
      ]
     },
     "execution_count": 24,
     "metadata": {},
     "output_type": "execute_result"
    }
   ],
   "source": [
    "chat_history = []\n",
    "query = \"What is Exodus about?\"\n",
    "result = qa({\"question\": query, \"chat_history\": chat_history})\n",
    "result[\"answer\"]"
   ]
  },
  {
   "cell_type": "code",
   "execution_count": 25,
   "metadata": {},
   "outputs": [
    {
     "data": {
      "text/plain": [
       "[Document(page_content=\"Exodus 19:1\\tIn the third month, when the children of Israel were gone forth out of the land of Egypt, the same day came they into the wilderness of Sinai.\\n\\nExodus 19:2\\tFor they were departed from Rephidim, and were come to the desert of Sinai, and had pitched in the wilderness; and there Israel camped before the mount.\\n\\nExodus 19:3\\tAnd Moses went up unto God, and the LORD called unto him out of the mountain, saying, Thus shalt thou say to the house of Jacob, and tell the children of Israel;\\n\\nExodus 19:4\\tYe have seen what I did unto the Egyptians, and how I bare you on eagles' wings, and brought you unto myself.\\n\\nExodus 19:5\\tNow therefore, if ye will obey my voice indeed, and keep my covenant, then ye shall be a peculiar treasure unto me above all people: for all the earth is mine:\\n\\nExodus 19:6\\tAnd ye shall be unto me a kingdom of priests, and an holy nation. These are the words which thou shalt speak unto the children of Israel.\", lookup_str='', metadata={'source': 'D:\\\\Downloaded\\\\BibleBuddy Docs\\\\KJV\\\\kjv.txt'}, lookup_index=0),\n",
       " Document(page_content='Exodus 13:17\\tAnd it came to pass, when Pharaoh had let the people go, that God led them not through the way of the land of the Philistines, although that was near; for God said, Lest peradventure the people repent when they see war, and they return to Egypt:\\n\\nExodus 13:18\\tBut God led the people about, through the way of the wilderness of the Red sea: and the children of Israel went up harnessed out of the land of Egypt.\\n\\nExodus 13:19\\tAnd Moses took the bones of Joseph with him: for he had straitly sworn the children of Israel, saying, God will surely visit you; and ye shall carry up my bones away hence with you.\\n\\nExodus 13:20\\tAnd they took their journey from Succoth, and encamped in Etham, in the edge of the wilderness.\\n\\nExodus 13:21\\tAnd the LORD went before them by day in a pillar of a cloud, to lead them the way; and by night in a pillar of fire, to give them light; to go by day and night:', lookup_str='', metadata={'source': 'D:\\\\Downloaded\\\\BibleBuddy Docs\\\\KJV\\\\kjv.txt'}, lookup_index=0),\n",
       " Document(page_content='Exodus 6:1\\tThen the LORD said unto Moses, Now shalt thou see what I will do to Pharaoh: for with a strong hand shall he let them go, and with a strong hand shall he drive them out of his land.\\n\\nExodus 6:2\\tAnd God spake unto Moses, and said unto him, I am the LORD:\\n\\nExodus 6:3\\tAnd I appeared unto Abraham, unto Isaac, and unto Jacob, by the name of God Almighty, but by my name JEHOVAH was I not known to them.\\n\\nExodus 6:4\\tAnd I have also established my covenant with them, to give them the land of Canaan, the land of their pilgrimage, wherein they were strangers.\\n\\nExodus 6:5\\tAnd I have also heard the groaning of the children of Israel, whom the Egyptians keep in bondage; and I have remembered my covenant.\\n\\nExodus 6:6\\tWherefore say unto the children of Israel, I am the LORD, and I will bring you out from under the burdens of the Egyptians, and I will rid you out of their bondage, and I will redeem you with a stretched out arm, and with great judgments:', lookup_str='', metadata={'source': 'D:\\\\Downloaded\\\\BibleBuddy Docs\\\\KJV\\\\kjv.txt'}, lookup_index=0),\n",
       " Document(page_content='Exodus 14:12\\tIs not this the word that we did tell thee in Egypt, saying, Let us alone, that we may serve the Egyptians? For it had been better for us to serve the Egyptians, than that we should die in the wilderness.\\n\\nExodus 14:13\\tAnd Moses said unto the people, Fear ye not, stand still, and see the salvation of the LORD, which he will show to you to day: for the Egyptians whom ye have seen to day, ye shall see them again no more for ever.\\n\\nExodus 14:14\\tThe LORD shall fight for you, and ye shall hold your peace.\\n\\nExodus 14:15\\tAnd the LORD said unto Moses, Wherefore criest thou unto me? speak unto the children of Israel, that they go forward:\\n\\nExodus 14:16\\tBut lift thou up thy rod, and stretch out thine hand over the sea, and divide it: and the children of Israel shall go on dry ground through the midst of the sea.', lookup_str='', metadata={'source': 'D:\\\\Downloaded\\\\BibleBuddy Docs\\\\KJV\\\\kjv.txt'}, lookup_index=0)]"
      ]
     },
     "execution_count": 25,
     "metadata": {},
     "output_type": "execute_result"
    }
   ],
   "source": [
    "result['source_documents']"
   ]
  },
  {
   "attachments": {},
   "cell_type": "markdown",
   "metadata": {},
   "source": [
    "Testing persistance"
   ]
  },
  {
   "cell_type": "code",
   "execution_count": null,
   "metadata": {},
   "outputs": [],
   "source": [
    "!pip install qdrant_client"
   ]
  },
  {
   "cell_type": "code",
   "execution_count": 45,
   "metadata": {},
   "outputs": [],
   "source": [
    "# from langchain import Qdrant\n",
    "from qdrant_client import QdrantClient\n",
    "from langchain.vectorstores import Qdrant\n",
    "\n",
    "host = \"biblebuddycluster\"\n",
    "api_key = os.environ[\"QDRANT_API_KEY\"]\n",
    "hosturl = os.environ[\"QDRANT_HOST\"]\n",
    "client = QdrantClient(url=hosturl, prefer_grpc=True, api_key=api_key )\n",
    "collection_name = \"KJV\"\n",
    "embeddings = OpenAIEmbeddings().\n",
    "qdrant2 = Qdrant(client, collection_name, embedding_function=embeddings.embed_query)"
   ]
  },
  {
   "cell_type": "code",
   "execution_count": 46,
   "metadata": {},
   "outputs": [
    {
     "data": {
      "text/plain": [
       "<langchain.vectorstores.qdrant.Qdrant at 0x1a5d0f13c10>"
      ]
     },
     "execution_count": 46,
     "metadata": {},
     "output_type": "execute_result"
    }
   ],
   "source": [
    "qdrant2"
   ]
  },
  {
   "cell_type": "code",
   "execution_count": 47,
   "metadata": {},
   "outputs": [
    {
     "data": {
      "text/plain": [
       "Document(page_content='Luke 13:14\\tAnd the ruler of the synagogue answered with indignation, because that Jesus had healed on the sabbath day, and said unto the people, There are six days in which men ought to work: in them therefore come and be healed, and not on the sabbath day.\\n\\nLuke 13:15\\tThe Lord then answered him, and said, Thou hypocrite, doth not each one of you on the sabbath loose his ox or his ass from the stall, and lead him away to watering?\\n\\nLuke 13:16\\tAnd ought not this woman, being a daughter of Abraham, whom Satan hath bound, lo, these eighteen years, be loosed from this bond on the sabbath day?\\n\\nLuke 13:17\\tAnd when he had said these things, all his adversaries were ashamed: and all the people rejoiced for all the glorious things that were done by him.\\n\\nLuke 13:18\\tThen said he, Unto what is the kingdom of God like? and whereunto shall I resemble it?', lookup_str='', metadata={'source': 'D:\\\\Downloaded\\\\BibleBuddy Docs\\\\KJV\\\\kjv.txt'}, lookup_index=0)"
      ]
     },
     "execution_count": 47,
     "metadata": {},
     "output_type": "execute_result"
    }
   ],
   "source": [
    "query = \"What did Jesus say about Sabbath?\"\n",
    "docs = qdrant2.similarity_search(query)\n",
    "docs[0]"
   ]
  }
 ],
 "metadata": {
  "kernelspec": {
   "display_name": "Python 3",
   "language": "python",
   "name": "python3"
  },
  "language_info": {
   "codemirror_mode": {
    "name": "ipython",
    "version": 3
   },
   "file_extension": ".py",
   "mimetype": "text/x-python",
   "name": "python",
   "nbconvert_exporter": "python",
   "pygments_lexer": "ipython3",
   "version": "3.10.1"
  },
  "orig_nbformat": 4
 },
 "nbformat": 4,
 "nbformat_minor": 2
}
