{
 "cells": [
  {
   "cell_type": "code",
   "execution_count": 1,
   "metadata": {},
   "outputs": [],
   "source": [
    "from langchain.embeddings.openai import OpenAIEmbeddings\n",
    "from langchain.text_splitter import CharacterTextSplitter\n",
    "from langchain.vectorstores import Qdrant\n",
    "from langchain.document_loaders import TextLoader\n",
    "from langchain.embeddings.openai import OpenAIEmbeddings\n",
    "# from langchain.vectorstores import Chroma\n",
    "from langchain.text_splitter import CharacterTextSplitter\n",
    "from langchain.chains import ChatVectorDBChain\n",
    "from langchain.document_loaders import DirectoryLoader\n",
    "from langchain.document_loaders import UnstructuredFileLoader\n",
    "import os\n",
    "from dotenv import load_dotenv\n",
    "\n",
    "# Load environment variables from .env file\n",
    "load_dotenv()\n",
    "os.environ[\"OPENAI_API_KEY\"] = os.getenv(\"OPENAI_API_KEY\")\n",
    "os.environ[\"QDRANT_API_KEY\"] = os.getenv(\"QDRANT_API_KEY\")\n",
    "os.environ[\"QDRANT_HOST\"] = os.getenv(\"QDRANT_HOST\")"
   ]
  },
  {
   "cell_type": "code",
   "execution_count": null,
   "metadata": {},
   "outputs": [],
   "source": [
    "where_the_dir_is = r'D:\\Downloaded\\BibleBuddy Docs\\NetBible\\Test'\n",
    "# where_the_dbs_will_be_saved = r'D:\\Downloaded\\BibleBuddy\\db\\Bibles\\Collections\\KJV'"
   ]
  },
  {
   "cell_type": "code",
   "execution_count": null,
   "metadata": {},
   "outputs": [],
   "source": [
    "# loader_cls = lambda path: UnstructuredFileLoader(path)\n",
    "# This will allow whole directorys to be embedded. \n",
    "loader = DirectoryLoader(where_the_dir_is)\n",
    "# loader_cls = lambda path: UnstructuredFileLoader(path, mode=\"elements\", max_tokens=2000)\n",
    "\n",
    "# loader.loader_cls = lambda path: UnstructuredFileLoader(path, mode=\"elements\")\n",
    "docs = loader.load()\n",
    "len(docs)"
   ]
  },
  {
   "cell_type": "code",
   "execution_count": 2,
   "metadata": {},
   "outputs": [],
   "source": [
    "from langchain.document_loaders import UnstructuredEPubLoader\n",
    "loader = UnstructuredEPubLoader(r\"D:\\Downloaded\\BibleBuddy Docs\\NetBible\\NET21NOTELESS.epub\")\n",
    "docs = loader.load()"
   ]
  },
  {
   "cell_type": "code",
   "execution_count": 3,
   "metadata": {},
   "outputs": [],
   "source": [
    "documents = loader.load()"
   ]
  },
  {
   "cell_type": "code",
   "execution_count": 4,
   "metadata": {},
   "outputs": [
    {
     "name": "stderr",
     "output_type": "stream",
     "text": [
      "Created a chunk of size 1017, which is longer than the specified 1000\n",
      "Created a chunk of size 1060, which is longer than the specified 1000\n",
      "Created a chunk of size 1053, which is longer than the specified 1000\n",
      "Created a chunk of size 1153, which is longer than the specified 1000\n",
      "Created a chunk of size 1075, which is longer than the specified 1000\n",
      "Created a chunk of size 1179, which is longer than the specified 1000\n",
      "Created a chunk of size 1107, which is longer than the specified 1000\n",
      "Created a chunk of size 1018, which is longer than the specified 1000\n",
      "Created a chunk of size 1011, which is longer than the specified 1000\n",
      "Created a chunk of size 1087, which is longer than the specified 1000\n"
     ]
    }
   ],
   "source": [
    "# from langchain.document_loaders import TextLoader\n",
    "# loader = TextLoader('db/paul_graham_essay.txt')\n",
    "# documents = loader.load()\n",
    "text_splitter = CharacterTextSplitter(chunk_size=1000, chunk_overlap=0)\n",
    "docs = text_splitter.split_documents(documents)\n",
    "\n",
    "embeddings = OpenAIEmbeddings()"
   ]
  },
  {
   "cell_type": "code",
   "execution_count": 5,
   "metadata": {},
   "outputs": [],
   "source": [
    "# host = \"biblebuddycluster\"\n",
    "api_key = os.environ[\"QDRANT_API_KEY\"]\n",
    "hosturl = os.environ[\"QDRANT_HOST\"]\n",
    "collectionname = 'netbible'\n",
    "qdrant = Qdrant.from_documents(docs, embeddings, url=hosturl, prefer_grpc=True, api_key=api_key, collection_name=collectionname)\n"
   ]
  },
  {
   "cell_type": "code",
   "execution_count": 6,
   "metadata": {},
   "outputs": [
    {
     "data": {
      "text/plain": [
       "Document(page_content='2:23 Jesus was going through the grain\\r\\nfields on a Sabbath, and his disciples began to pick some heads of wheat\\r\\nas they made their way.\\n\\n2:24 So the Pharisees\\r\\nsaid to him, “Look, why are they doing what is against the law on the\\r\\nSabbath?”\\n\\n2:25 He said to them, “Have you\\r\\nnever read what David did when he was in need and he and his companions\\r\\nwere hungry—\\n\\n2:26 how he entered the house of\\r\\nGod when Abiathar was high priest and ate the sacred bread, which is\\r\\nagainst the law for any but the priests to eat, and also gave it to his\\r\\ncompanions?”\\n\\n2:27 Then he said to them, “The\\r\\nSabbath was made for people, not people for the Sabbath.\\n\\n2:28 For this reason the Son of Man is lord even of\\r\\nthe Sabbath.”\\n\\nMark\\r\\nChapter 3\\n\\nHealing a Withered Hand\\n\\n3:1 Then Jesus entered the synagogue\\r\\nagain, and a man was there who had a withered hand.\\n\\n3:2 They watched Jesus closely to see if he would\\r\\nheal him on the Sabbath, so that they could accuse him.', metadata={'source': 'D:\\\\Downloaded\\\\BibleBuddy Docs\\\\NetBible\\\\NET21NOTELESS.epub'})"
      ]
     },
     "execution_count": 6,
     "metadata": {},
     "output_type": "execute_result"
    }
   ],
   "source": [
    "query = \"What did Jesus say about Sabbath?\"\n",
    "docs = qdrant.similarity_search(query)\n",
    "docs[0]"
   ]
  },
  {
   "cell_type": "code",
   "execution_count": null,
   "metadata": {},
   "outputs": [],
   "source": [
    "from langchain.chat_models import ChatOpenAI\n",
    "from langchain.prompts.chat import (\n",
    "    ChatPromptTemplate,\n",
    "    SystemMessagePromptTemplate,\n",
    "    AIMessagePromptTemplate,\n",
    "    HumanMessagePromptTemplate,\n",
    ")\n",
    "from langchain.schema import (\n",
    "    AIMessage,\n",
    "    HumanMessage,\n",
    "    SystemMessage\n",
    ")"
   ]
  },
  {
   "cell_type": "code",
   "execution_count": null,
   "metadata": {},
   "outputs": [],
   "source": [
    "system_template=\"\"\"Use the following pieces of context to answer the users question. \n",
    "If you don't know the answer, just say that you don't know, don't try to make up an answer. Provide a scripture reference.\n",
    "ALWAYS return a \"sources\" part in your answer.\n",
    "The \"sources\" part should be a reference to the source of the document from which you got your answer.\n",
    "\n",
    "The output should be a markdown code snippet formatted in the following schema:\n",
    "```json\n",
    "{{\n",
    "answer: is foo\n",
    "sources: xyz\n",
    "}}\n",
    "```\n",
    "Begin!\n",
    "----------------\n",
    "{context}\"\"\"\n",
    "messages = [\n",
    "    SystemMessagePromptTemplate.from_template(system_template),\n",
    "    HumanMessagePromptTemplate.from_template(\"{question}\")\n",
    "]\n",
    "prompt = ChatPromptTemplate.from_messages(messages)"
   ]
  },
  {
   "cell_type": "code",
   "execution_count": null,
   "metadata": {},
   "outputs": [],
   "source": [
    "qa = ChatVectorDBChain.from_llm(ChatOpenAI(temperature=0), qdrant,qa_prompt=prompt, return_source_documents=True)"
   ]
  },
  {
   "cell_type": "code",
   "execution_count": null,
   "metadata": {},
   "outputs": [],
   "source": [
    "chat_history = []\n",
    "query = \"What is Exodus about?\"\n",
    "result = qa({\"question\": query, \"chat_history\": chat_history})\n",
    "result[\"answer\"]"
   ]
  },
  {
   "cell_type": "code",
   "execution_count": null,
   "metadata": {},
   "outputs": [],
   "source": [
    "result['source_documents']"
   ]
  },
  {
   "attachments": {},
   "cell_type": "markdown",
   "metadata": {},
   "source": [
    "Testing persistance"
   ]
  },
  {
   "cell_type": "code",
   "execution_count": null,
   "metadata": {},
   "outputs": [],
   "source": [
    "!pip install qdrant_client"
   ]
  },
  {
   "cell_type": "code",
   "execution_count": null,
   "metadata": {},
   "outputs": [],
   "source": [
    "# from langchain import Qdrant\n",
    "from qdrant_client import QdrantClient\n",
    "from langchain.vectorstores import Qdrant\n",
    "\n",
    "host = \"biblebuddycluster\"\n",
    "api_key = os.environ[\"QDRANT_API_KEY\"]\n",
    "hosturl = os.environ[\"QDRANT_HOST\"]\n",
    "client = QdrantClient(url=hosturl, prefer_grpc=True, api_key=api_key )\n",
    "collection_name = \"KJV\"\n",
    "embeddings = OpenAIEmbeddings().\n",
    "qdrant2 = Qdrant(client, collection_name, embedding_function=embeddings.embed_query)"
   ]
  },
  {
   "cell_type": "code",
   "execution_count": null,
   "metadata": {},
   "outputs": [],
   "source": [
    "qdrant2"
   ]
  },
  {
   "cell_type": "code",
   "execution_count": null,
   "metadata": {},
   "outputs": [],
   "source": [
    "query = \"What did Jesus say about Sabbath?\"\n",
    "docs = qdrant2.similarity_search(query)\n",
    "docs[0]"
   ]
  }
 ],
 "metadata": {
  "kernelspec": {
   "display_name": "Python 3",
   "language": "python",
   "name": "python3"
  },
  "language_info": {
   "codemirror_mode": {
    "name": "ipython",
    "version": 3
   },
   "file_extension": ".py",
   "mimetype": "text/x-python",
   "name": "python",
   "nbconvert_exporter": "python",
   "pygments_lexer": "ipython3",
   "version": "3.10.1"
  },
  "orig_nbformat": 4
 },
 "nbformat": 4,
 "nbformat_minor": 2
}
